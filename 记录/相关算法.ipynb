{
 "cells": [
  {
   "cell_type": "markdown",
   "metadata": {},
   "source": [
    "# 一些算法"
   ]
  },
  {
   "cell_type": "code",
   "execution_count": 1,
   "metadata": {},
   "outputs": [],
   "source": [
    "import numpy as np\n",
    "#IOU计算\n",
    "def iou(box1,box2):\n",
    "    left1,right1,top1,bottom1 = box1\n",
    "    left2,right2,top2,bottom2 = box2\n",
    "    #计算交叉点\n",
    "    left = max(left1,left2)\n",
    "    top = max(top1,top2)\n",
    "    right = min(right1,right2)\n",
    "    bottom = min(bottom1,bottom2)\n",
    "    if left >= right or top >=bottom:\n",
    "        return 0\n",
    "    else:\n",
    "        inter_area = (bottom - top)*(right - left)\n",
    "    #计算面积\n",
    "    area1 = (bottom1 - top1)*(right1 - left1)\n",
    "    area2 = (bottom2 - top2)*(right2 - left2)\n",
    "    return inter_area/(area1 + area2 - inter_area)\n",
    "    "
   ]
  },
  {
   "cell_type": "code",
   "execution_count": 13,
   "metadata": {},
   "outputs": [
    {
     "name": "stdout",
     "output_type": "stream",
     "text": [
      "padding: shape从(20, 30)到(26, 32)\n",
      "卷积后的(w,h)=(30, 24), rw = (iw+pw-kw)//s + 1\n",
      "(24, 30)\n"
     ]
    }
   ],
   "source": [
    "#卷积操作\n",
    "def conv(image,kernel,stride,padding_w,padding_h):\n",
    "    def padding_input(image,padding_w,padding_h):\n",
    "        h0,w0 = image.shape\n",
    "        \n",
    "        #增加宽    增加的列数，首尾各增加一次; \n",
    "        add_cols  = np.zeros((h0, padding_w)) \n",
    "        image = np.column_stack((add_cols,image,add_cols))#左右堆叠\n",
    "        w1 = w0 + 2*padding_w\n",
    "        #增加高    增加的行数,首尾各增加一次\n",
    "        add_rows  = np.zeros((padding_h , w1))\n",
    "        image = np.row_stack((add_rows,image,add_rows))#上下堆叠\n",
    "        h1 = h0 + 2*padding_h\n",
    "        print(\"padding: shape从{}到{}\".format((h0,w0),(h1,w1)))\n",
    "        return image\n",
    "    \n",
    "    image = padding_input(image,padding_w,padding_h)\n",
    "    ih,iw = image.shape\n",
    "    kh,kw = kernel.shape\n",
    "    #计算卷积后的长宽\n",
    "    rh = (ih - kh)//stride +1\n",
    "    rw = (iw - kw)//stride +1\n",
    "    print('卷积后的(w,h)={}, rw = (iw+pw-kw)//s + 1'.format((rw,rh)))\n",
    "    result = np.zeros((rh,rw),dtype = image.dtype)\n",
    "    for y in range(0,ih - kh,stride):\n",
    "        for x in range(0,iw - kw,stride):\n",
    "            result[y//stride,x//stride] = np.sum(kernel*image[y:y+kh,x:x+kw])\n",
    "    return result\n",
    "\n",
    "image = np.random.randn(20, 30)\n",
    "kernel = np.random.randn(3,3)\n",
    "re = conv(image,kernel,stride = 1,padding_w =1,padding_h = 3)     "
   ]
  },
  {
   "cell_type": "code",
   "execution_count": null,
   "metadata": {},
   "outputs": [],
   "source": []
  }
 ],
 "metadata": {
  "kernelspec": {
   "display_name": "Python 3",
   "language": "python",
   "name": "python3"
  },
  "language_info": {
   "codemirror_mode": {
    "name": "ipython",
    "version": 3
   },
   "file_extension": ".py",
   "mimetype": "text/x-python",
   "name": "python",
   "nbconvert_exporter": "python",
   "pygments_lexer": "ipython3",
   "version": "3.7.9"
  }
 },
 "nbformat": 4,
 "nbformat_minor": 4
}
