{
 "cells": [
  {
   "cell_type": "markdown",
   "metadata": {},
   "source": [
    "# 链表"
   ]
  },
  {
   "cell_type": "markdown",
   "metadata": {},
   "source": [
    "21. 合并两个有序链表\n",
    "\n",
    "将两个升序链表合并为一个新的 升序 链表并返回。新链表是通过拼接给定的两个链表的所有节点组成的。 \n",
    "示例：\n",
    "输入：1->2->4, 1->3->4\n",
    "输出：1->1->2->3->4->4\n",
    "\n",
    "方法1：简易的转化，把链表的值填入List合并后，用dummy填充新链表的方法。***要对头结点进行操作时，考虑创建哑节点dummy，使用dummy->next表示真正的头节点。***\n",
    "方法2：递归\n",
    "    终止条件：当两个链表都为空时，表示我们对链表已合并完成。\n",
    "    如何递归：我们判断 l1 和 l2 头结点哪个更小，然后较小结点的 next 指针指向其余结点的合并结果。（调用递归）"
   ]
  },
  {
   "cell_type": "code",
   "execution_count": null,
   "metadata": {},
   "outputs": [],
   "source": [
    "# Definition for singly-linked list.\n",
    "# class ListNode:\n",
    "#     def __init__(self, val=0, next=None):\n",
    "#         self.val = val\n",
    "#         self.next = next\n",
    "class Solution:\n",
    "    def mergeTwoLists(self, l1: ListNode, l2: ListNode) -> ListNode:\n",
    "        #链表转list，合并排序再转回来\n",
    "        f1,f2 = l1,l2\n",
    "        list1,list2 = [],[]\n",
    "        while l1:\n",
    "            list1.append(l1.val)\n",
    "            l1 = l1.next\n",
    "        while l2:\n",
    "            list2.append(l2.val)\n",
    "            l2 = l2.next\n",
    "        resultList = list1 + list2\n",
    "        resultList.sort()\n",
    "\n",
    "        #设置dummy，并且用List里面的值逐个填充新链表ff。\n",
    "        dummy = ff = ListNode(0)\n",
    "        for i in resultList:\n",
    "            ff.next = ListNode(i)\n",
    "            ff = ff.next\n",
    "        return dummy.next\n",
    "    \n",
    "    def mergeTwoLists2(self, l1: ListNode, l2: ListNode) -> ListNode:\n",
    "        if not l1: return l2  # 终止条件，直到两个链表都空\n",
    "        if not l2: return l1\n",
    "        if l1.val <= l2.val:  # 递归调用\n",
    "            l1.next = self.mergeTwoLists2(l1.next,l2)\n",
    "            return l1\n",
    "        else:\n",
    "            l2.next = self.mergeTwoLists2(l1,l2.next)\n",
    "            return l2\n"
   ]
  },
  {
   "cell_type": "markdown",
   "metadata": {},
   "source": [
    "148. 排序链表\n",
    "给你链表的头结点 head ，请将其按 升序 排列并返回 排序后的链表 。\n",
    "进阶：\n",
    "    你可以在 O(n log n) 时间复杂度和常数级空间复杂度下，对链表进行排序吗？\n",
    "\n",
    "方法1:同样可以简单转list做\n",
    "方法2："
   ]
  },
  {
   "cell_type": "code",
   "execution_count": null,
   "metadata": {},
   "outputs": [],
   "source": [
    "class Solution:\n",
    "    def sortList(self, head: ListNode) -> ListNode:\n",
    "        #转list,然后创建哑节点dummy，使用dummy->next表示真正的头节点\n",
    "        list0 = []\n",
    "        while head:\n",
    "            list0.append(head.val)\n",
    "            head = head.next\n",
    "            \n",
    "        list0.sort()\n",
    "        #设置dummy，并且用List里面的值逐个填充新链表ff。\n",
    "        dummy = ff = ListNode(0)\n",
    "        for i in list0:\n",
    "            ff.next = ListNode(i)\n",
    "            ff = ff.next\n",
    "        return dummy.next"
   ]
  },
  {
   "cell_type": "markdown",
   "metadata": {},
   "source": [
    "147. 对链表进行插入排序\n",
    "对链表进行插入排序。\n",
    "插入排序的动画演示如上。从第一个元素开始，该链表可以被认为已经部分排序（用黑色表示）。\n",
    "每次迭代时，从输入数据中移除一个元素（用红色表示），并原地将其插入到已排好序的链表中。\n",
    "\n",
    "插入排序算法：\n",
    "    插入排序是迭代的，每次只移动一个元素，直到所有元素可以形成一个有序的输出列表。\n",
    "    每次迭代中，插入排序只从输入数据中移除一个待排序的元素，找到它在序列中适当的位置，并将其插入。\n",
    "    重复直到所有输入数据插入完为止。\n",
    "示例 ：\n",
    "输入: 4->2->1->3\n",
    "输出: 1->2->3->4"
   ]
  },
  {
   "cell_type": "markdown",
   "metadata": {},
   "source": [
    "83. 删除排序链表中的重复元素\n",
    "\n",
    "给定一个排序链表，删除所有重复的元素，使得每个元素只出现一次。\n",
    "示例:\n",
    "输入: 1->1->2->3->3\n",
    "输出: 1->2->3\n",
    "\n",
    "分析：也就是判断下一个和前一个是否相等，相等就改变这个的指向，指向下下一个\n",
    "方法1：递归；终止条件为链表为空或者到终点了\n",
    "方法2：一个指针对head后的node进行改变，如果cur与cur.next都存在，就在循环内进行判断，如果这个与下个值相等，那么下个地址变为下下个地址；"
   ]
  },
  {
   "cell_type": "code",
   "execution_count": null,
   "metadata": {},
   "outputs": [],
   "source": [
    "class Solution:\n",
    "    def deleteDuplicates(self, head: ListNode) -> ListNode:\n",
    "\n",
    "        cur = head\n",
    "        while cur is not None and  cur.next is not None:\n",
    "            if cur.val == cur.next.val:\n",
    "                cur.next = cur.next.next\n",
    "            else:\n",
    "                cur = cur.next\n",
    "        return head\n",
    "        \n",
    "        ##递归\n",
    "        if head is None or head.next is None:#边界条件\n",
    "            return head\n",
    "        head.next = self.deleteDuplicates(head.next)\n",
    "        if head.val == head.next.val:\n",
    "            return head.next  \n",
    "        else:\n",
    "            return head"
   ]
  },
  {
   "cell_type": "markdown",
   "metadata": {},
   "source": [
    "141. 环形链表\n",
    "\n",
    "给定一个链表，判断链表中是否有环。\n",
    "如果链表中有某个节点，可以通过连续跟踪 next 指针再次到达，则链表中存在环。 为了表示给定链表中的环，我们使用整数 pos 来表示链表尾连接到链表中的位置（索引从 0 开始）。 如果 pos 是 -1，则在该链表中没有环。注意：pos 不作为参数进行传递，仅仅是为了标识链表的实际情况。\n",
    "如果链表中存在环，则返回 true 。 否则，返回 false 。\n",
    "\n",
    "双指针（快慢指针）方法：追击问题，有环那快慢指针必定相遇，第二次相遇减去第一次相遇步数就是环长度；\n"
   ]
  },
  {
   "cell_type": "code",
   "execution_count": null,
   "metadata": {},
   "outputs": [],
   "source": [
    "class Solution:\n",
    "    def hasCycle(self, head: ListNode) -> bool:\n",
    "        slow,fast = head,head\n",
    "        while fast and  fast.next and fast.next.next and slow and slow.next:#注意条件 \n",
    "            slow = slow.next\n",
    "            fast = fast.next.next\n",
    "            if slow.val == fast.val:\n",
    "                return True\n",
    "        return False"
   ]
  }
 ],
 "metadata": {
  "kernelspec": {
   "display_name": "Python 3",
   "language": "python",
   "name": "python3"
  },
  "language_info": {
   "codemirror_mode": {
    "name": "ipython",
    "version": 3
   },
   "file_extension": ".py",
   "mimetype": "text/x-python",
   "name": "python",
   "nbconvert_exporter": "python",
   "pygments_lexer": "ipython3",
   "version": "3.8.3"
  }
 },
 "nbformat": 4,
 "nbformat_minor": 4
}
