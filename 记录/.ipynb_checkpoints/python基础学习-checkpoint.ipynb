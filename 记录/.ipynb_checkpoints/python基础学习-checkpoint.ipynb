{
 "cells": [
  {
   "cell_type": "markdown",
   "metadata": {},
   "source": [
    "# Python基础学习 "
   ]
  },
  {
   "cell_type": "markdown",
   "metadata": {},
   "source": [
    "## 数据类型:\n",
    "**1. False\\ True 、 None（0是有意义的，None不是0，空值**\n",
    " \n",
    "**2. dict**\n",
    " \n",
    "**3. set** 以看成数学意义上的无序和无重复元素的集合，因此，两个set可以做数学意义上的交集、并集等操作.\n",
    "  \n",
    "**4. list**\n",
    "    ```\n",
    "            list.append(obj)    在列表末尾添加新的对象\n",
    "            list.count(obj)     统计某个元素在列表中出现的次数\n",
    "            list.extend(seq)    在列表末尾一次性追加另一个序列中的多个值（用新列表扩展原来的列表）\n",
    "            list.index(obj)     从列表中找出某个值第一个匹配项的索引位置\n",
    "            list.insert(index, obj)     将对象插入列表\n",
    "            list.pop(obj=list[-1])      移除列表中的一个元素（默认最后一个元素），并且返回该元素的值\n",
    "            list.remove(obj)    移除列表中某个值的第一个匹配项\n",
    "            list.reverse()      反向列表中元素\n",
    "            list.sort([func])   对原列表进行排序 二维list,  list.sort(key = lambda x:[x[0],-[x1]] ,reverse=False) #对0升序、1降序排序 \n",
    "    ```\n",
    "  \n",
    "**5.tuple**  值不可改变"
   ]
  },
  {
   "cell_type": "markdown",
   "metadata": {},
   "source": [
    "## collections\n",
    "**1. namedtuple ('名称', [属性list])**\n",
    " \n",
    "        _make（构造）、 _replace（更改值需要返回new） 、_asdict()（转dict） 、_fields（返回名字） 、 _field_defaults\n",
    " \n",
    "**2. deque（双向队列）**  collections.deque([iterable[, maxlen]])   超过maxlen，再加入则旧数据从另一端弹出；\n",
    " \n",
    "    使用list存储数据时，按索引访问元素很快，但是插入和删除元素就很慢了，因为list是线性存储，数据量大的时候，插入和删除效率很低。**deque是为了高效实现插入和删除操作的双向列表，适合用于队列和栈.**\n",
    "     \n",
    "    deque除了实现list的append()和pop()外，还支持appendleft()和popleft()，这样就可以非常高效地往头部添加或删除元素。\n",
    "        append(x)       添加 x 到右端。\n",
    "        appendleft(x)   添加 x 到左端。\n",
    "        clear()         移除所有元素，使其长度为0.\n",
    "        copy()          创建一份浅拷贝。\n",
    "        count(x)        计算 deque 中元素等于 x 的个数。\n",
    "        extend(iterable)     扩展deque的右侧，通过添加iterable参数中的元素。\n",
    "        extendleft(iterable) 扩展deque的左侧，通过添加iterable参数中的元素。注意，左添加时，在结果中iterable参数中的顺序将被反过来添加。\n",
    "        index(x[, start[, stop]])  返回 x 在 deque 中的位置（在索引 start 之后，索引 stop 之前）。 返回第一个匹配项，如果未找到则引发 ValueError。\n",
    "        insert(i, x)    在位置 i 插入 x 。如果插入会导致一个限长 deque 超出长度 maxlen 的话，就引发一个 IndexError。\n",
    "        pop()           移去并且返回一个元素，deque 最右侧的那一个。 如果没有元素的话，就引发一个 IndexError。\n",
    "        popleft()       移去并且返回一个元素，deque 最左侧的那一个。 如果没有元素的话，就引发 IndexError。\n",
    "        remove(value)   移除找到的第一个 value。 如果没有的话就引发 ValueError。\n",
    "        reverse()       将deque逆序排列。返回 None 。\n",
    "        rotate(n=1)     向右循环移动 n 步。 如果 n 是负数，就向左循环(环形)。如果deque不是空的，向右循环移动一步就等价于 d.appendleft(d.pop()) ， 向左循环一步就等价于 d.append(d.popleft()) 。\n",
    " \n",
    "**3. defaultdict**  使用dict时，如果引用的Key不存在，就会抛出KeyError。如果希望key不存在时，返回一个默认值，就可以用defaultdict；也就是添加一个默认值。\n",
    " \n",
    "4. OrderedDict  有序字典，同py37以上dict\n",
    " \n",
    "**5. ChainMap**    将多个映射快速的链接到一起，作为一个单元处理(字典处理相当于 dict.update(dict_new)，但比其更快).\n",
    " \n",
    "**6. Counter**   一个 Counter 是一个 dict 的子类，用于计数可哈希对象。它是一个集合，元素像字典键(key)一样存储，它们的计数存储为值。计数可以是任何整数值，包括0和负数。\n",
    " \n",
    "        elements()    返回一个迭代器，其中每个元素将重复出现计数值所指定次。 元素会按**首次出现**的顺序返回。 如果一个元素的计数值小于一，elements() 将会忽略它。\n",
    "        most_common([n])   返回一个列表，其中包含 n 个最常见的元素及出现次数，**按常见程度由高到低排序**。 如果 n 被省略或为 None，most_common() 将返回计数器中的 所有 元素。\n",
    "        subtract([iterable-or-mapping])   从 迭代对象 或 映射对象 减去元素。像 dict.update() 但是是减去，而不是替换。输入和输出都可以是0或者负数.\n",
    "        update([iterable-or-mapping])     从 迭代对象 计数元素或者 从另一个 映射对象 (或计数器) 添加。 像 dict.update() 但是是加上，而不是替换。另外，迭代对象 应该是序列元素"
   ]
  },
  {
   "cell_type": "code",
   "execution_count": 26,
   "metadata": {},
   "outputs": [
    {
     "name": "stdout",
     "output_type": "stream",
     "text": [
      "True True 5 8 3\n",
      "('x', 'y', 'r') {'x': 11, 'y': 2, 'r': 10}\n"
     ]
    }
   ],
   "source": [
    "from collections import namedtuple\n",
    "Circle = namedtuple('Circle', ['x', 'y','r'])\n",
    "c = Circle(5,8,3)\n",
    "print(isinstance(c, Circle),isinstance(c, tuple),c.x,c.y,c.r)#自定义的也属于tuple，输出这个自定义tuple的各个值\n",
    "new_t = Circle._make([1,2,10])\n",
    "new_t = new_t._replace(x=11)\n",
    "print(new_t._fields , new_t._asdict())"
   ]
  },
  {
   "cell_type": "code",
   "execution_count": null,
   "metadata": {},
   "outputs": [],
   "source": [
    "from collections import deque\n",
    "q = deque(['a', 'b', 'c'])\n",
    "q.append('x')\n",
    "q.popleft()\n",
    "q.appendleft('y')\n",
    "print(q)"
   ]
  },
  {
   "cell_type": "code",
   "execution_count": null,
   "metadata": {},
   "outputs": [],
   "source": [
    "from collections import defaultdict\n",
    "dd = defaultdict(lambda: 'N/A')\n",
    "dd['key1'] = 'abc'\n",
    "print(dd['key2']) # key2不存在，返回默认值"
   ]
  },
  {
   "cell_type": "code",
   "execution_count": 40,
   "metadata": {},
   "outputs": [
    {
     "name": "stdout",
     "output_type": "stream",
     "text": [
      "['a', 'b', 'c', 'd']\n",
      "['a', 'b', 'd', 'c']\n"
     ]
    }
   ],
   "source": [
    "from collections import ChainMap\n",
    "d1 = {'a':1,'b':2,'c':3}\n",
    "d2 = {'a':2,'b':10,'d':5}\n",
    "new_d = d1.copy()\n",
    "new_d.update(d2)\n",
    "print(list(new_d),new_d)\n",
    "print(list(ChainMap(d1,d2)) ,ChainMap(d1,d2))"
   ]
  },
  {
   "cell_type": "code",
   "execution_count": 2,
   "metadata": {},
   "outputs": [
    {
     "name": "stdout",
     "output_type": "stream",
     "text": [
      "0\n",
      "Counter({'c': 3, 'a': 2, 'b': 2, 'q': 1})\n",
      "[('c', 3), ('a', 2), ('b', 2)]\n",
      "['a', 'a', 'b', 'b', 'c', 'c', 'c', 'q']\n",
      "Counter({'c': 3, 'b': 2, 'a': 0, 'q': -1})\n"
     ]
    },
    {
     "data": {
      "text/plain": [
       "'abccbaabccba'"
      ]
     },
     "execution_count": 2,
     "metadata": {},
     "output_type": "execute_result"
    }
   ],
   "source": [
    "from collections import Counter\n",
    "c = Counter(\"abccc\")#初始化方式,(\"a\"=1,'b'=2,'c'=3) or (\"a\":1,'b':2,'c':3) \n",
    "print(c[\"k\"])#0  返回该元素的个数\n",
    "c.update(['a','b','q'])#增加\n",
    "print(c)\n",
    "print(c.most_common(3) )\n",
    "print(list(c.elements()))\n",
    "c.subtract(['a','a','q','q'])\n",
    "print(c)\n",
    "'''\n",
    "给你一个字符串 s ，请你根据下面的算法重新构造字符串：\n",
    "    从 s 中选出 最小 的字符，将它 接在 结果字符串的后面。\n",
    "    从 s 剩余字符中选出 最小 的字符，且该字符比上一个添加的字符大，将它 接在 结果字符串后面。\n",
    "    重复步骤 2 ，直到你没法从 s 中选择字符。\n",
    "    从 s 中选出 最大 的字符，将它 接在 结果字符串的后面。\n",
    "    从 s 剩余字符中选出 最大 的字符，且该字符比上一个添加的字符小，将它 接在 结果字符串后面。\n",
    "    重复步骤 5 ，直到你没法从 s 中选择字符。\n",
    "    重复步骤 1 到 6 ，直到 s 中所有字符都已经被选过。\n",
    "在任何一步中，如果最小或者最大字符不止一个 ，你可以选择其中任意一个，并将其添加到结果字符串。\n",
    "请你返回将 s 中字符重新排序后的 结果字符串 。\n",
    "'''\n",
    "class Solution:\n",
    "    def sortString(self, s):\n",
    "        str_counter = Counter(s)\n",
    "        result = []\n",
    "        flag = False\n",
    "        while str_counter:\n",
    "            keys = list(str_counter.keys())\n",
    "            keys.sort(reverse=flag)\n",
    "            flag = not flag\n",
    "            result.append(''.join(keys))\n",
    "            str_counter -= Counter(keys)\n",
    "        return ''.join(result)  \n",
    "Solution().sortString(\"aaaabbbbcccc\")"
   ]
  },
  {
   "cell_type": "markdown",
   "metadata": {},
   "source": [
    "## 函数\n",
    "**1.lambda（匿名函数）** lambda:f(x)  = def:return f(x);  \n",
    "                        过滤: L = list(filter(lambda x:x%2 > 0, range(1, 20))) ，1-20奇数\n",
    " \n",
    "**2.map**  map(f,list) = f(i) for i in list; \n",
    " \n",
    "**3.reduce** reduce(f, [x1, x2, x3, x4]) = f(f(f(x1, x2), x3), x4) ; **from functools import reduce**\n",
    " \n",
    "**4.filter**   和map()类似，filter()也接收一个函数和一个序列。和map()不同的是，filter()把传入的函数依次作用于每个元素，然后根据返回值是True还是False决定保留还是丢弃该元素。\n",
    " \n",
    "**5.sorted**   用法 sorted(a,key=None,reverse=False) 默认从小到大;\n",
    " \n",
    "**6.偏函数**   int2 = functools.partial(int, base=2) 即创建二进制字符串转int的函数int2.\n",
    " \n",
    "**7.装饰器**   利用@fuc，相当于在该函数执行前执行了 fuc(f)"
   ]
  },
  {
   "cell_type": "code",
   "execution_count": 2,
   "metadata": {},
   "outputs": [
    {
     "data": {
      "text/plain": [
       "12345"
      ]
     },
     "execution_count": 2,
     "metadata": {},
     "output_type": "execute_result"
    }
   ],
   "source": [
    "#如序列变为整数: \n",
    "from functools import reduce\n",
    "reduce(lambda x,y:10*x+y, [1,2, 3, 4, 5])#12345\n",
    "\n",
    "#思考：写一个str2int且不用int()。\n",
    "DIGITS = {'0': 0, '1': 1, '2': 2, '3': 3, '4': 4, '5': 5, '6': 6, '7': 7, '8': 8, '9': 9}\n",
    "def char2num(s):\n",
    "    return DIGITS[s]\n",
    "def str2int(s):\n",
    "    return reduce(lambda x, y: x * 10 + y, map(char2num, s))"
   ]
  },
  {
   "cell_type": "code",
   "execution_count": 9,
   "metadata": {},
   "outputs": [
    {
     "name": "stdout",
     "output_type": "stream",
     "text": [
      "2\t3\t5\t7\t"
     ]
    }
   ],
   "source": [
    "#L = list(filter(lambda x:x%2 > 0, range(1, 20)))\n",
    "\n",
    "#用Python来实现这个算法，可以先构造一个从3开始的奇数序列：\n",
    "def _odd_iter():\n",
    "    n = 1\n",
    "    while True:\n",
    "        n = n + 2\n",
    "        yield n\n",
    "#注意这是一个生成器，并且是一个无限序列。\n",
    "\n",
    "#然后定义一个筛选函数：\n",
    "def _not_divisible(n):\n",
    "    return lambda x: x % n > 0\n",
    "\n",
    "#最后，定义一个生成器，不断返回下一个素数：\n",
    "def primes():\n",
    "    yield 2\n",
    "    it = _odd_iter() # 初始序列  3 5 7 9 11 ...\n",
    "    while True:\n",
    "        n = next(it) # 取出并返回序列的第一个数 3\n",
    "        yield n\n",
    "        it = filter(_not_divisible(n), it) # 更新序列，剔除掉能整除3的数   5 7 11 ...\n",
    "        \n",
    "#这个生成器先返回第一个素数2，然后，利用filter()不断产生筛选后的新的序列。primes()也是一个无限序列\n",
    "\n",
    "\n",
    "# 打印100以内的素数:\n",
    "for n in primes():\n",
    "    if n < 10:\n",
    "        print(n,end='\\t')\n",
    "    else:\n",
    "        break"
   ]
  },
  {
   "cell_type": "code",
   "execution_count": 17,
   "metadata": {},
   "outputs": [
    {
     "data": {
      "text/plain": [
       "589"
      ]
     },
     "execution_count": 17,
     "metadata": {},
     "output_type": "execute_result"
    }
   ],
   "source": [
    "import functools\n",
    "int2 = functools.partial(int, base=2)\n",
    "int2('1001001101')"
   ]
  },
  {
   "cell_type": "code",
   "execution_count": 20,
   "metadata": {},
   "outputs": [
    {
     "name": "stdout",
     "output_type": "stream",
     "text": [
      "自定义 开始时间:2020-11-20 21:01:40;执行函数 run():\n"
     ]
    }
   ],
   "source": [
    "import time\n",
    " \n",
    "#三层嵌套\n",
    "def log(text):\n",
    "    def decorator(func):\n",
    "        def wrapper(*args, **kw):\n",
    "            now_time =  time.strftime(\"%Y-%m-%d %H:%M:%S\", time.localtime()) \n",
    "            print('%s 开始时间:%s;执行函数 %s():' % (text,now_time,func.__name__))\n",
    "            return func(*args, **kw)\n",
    "        return wrapper\n",
    "    return decorator\n",
    "\n",
    "@log('自定义')\n",
    "def run(a):\n",
    "    a = a+1\n",
    "run(1)"
   ]
  },
  {
   "cell_type": "markdown",
   "metadata": {},
   "source": [
    "## class类\n",
    "**1.访问限制**  让内部属性不被外部访问，可以把属性的名称前加上两个下划线__，在Python中，实例的变量名如果以__开头，就变成了一个私有变量（private），只有内部可以访问，外部不能访问.\n",
    " \n",
    "**2.继承和多态**   当定义一个class的时候，可以从某个现有的class继承，新的class称为子类（Subclass），而被继承的class称为基类、父类或超类（Base class、Super class）；\n",
    "                 多态的好处就是，当我们需要传入子类时，我们只需要接收基类就可以了，然后，按照Animal类型进行操作即可，执行的对象也是该子类的。\n",
    "                 \n",
    "**3. __slots__**  在定义class的时候，定义一个特殊的__slots__变量，来限制该class实例能添加的属性.除非在子类中也定义__slots__，这样，子类实例允许定义的属性就是自身的__slots__加上父类的__slots__。\n",
    " \n",
    "**4.@property**   内部属性，不暴露出去; 把一个getter方法变成属性，只需要加上@property就可以了，此时，@property本身又创建了另一个装饰器@score.setter，负责把一个setter方法变成属性赋值.\n",
    " \n",
    "**5.多重继承MixIn**    class h(One,TwoMixIn)\n",
    " \n",
    "**6.定制类**    改变类的固有函数__func__() 参考https://www.liaoxuefeng.com/wiki/1016959663602400/1017590712115904"
   ]
  },
  {
   "cell_type": "code",
   "execution_count": 29,
   "metadata": {},
   "outputs": [
    {
     "name": "stdout",
     "output_type": "stream",
     "text": [
      "run base\n",
      "run one\n"
     ]
    },
    {
     "ename": "AttributeError",
     "evalue": "'Base' object has no attribute '__test'",
     "output_type": "error",
     "traceback": [
      "\u001b[0;31m---------------------------------------------------------------------------\u001b[0m",
      "\u001b[0;31mAttributeError\u001b[0m                            Traceback (most recent call last)",
      "\u001b[0;32m<ipython-input-29-81fbddd91b7d>\u001b[0m in \u001b[0;36m<module>\u001b[0;34m\u001b[0m\n\u001b[1;32m     16\u001b[0m \u001b[0mtest\u001b[0m\u001b[0;34m(\u001b[0m\u001b[0mBase\u001b[0m\u001b[0;34m(\u001b[0m\u001b[0;34m)\u001b[0m\u001b[0;34m)\u001b[0m\u001b[0;34m\u001b[0m\u001b[0;34m\u001b[0m\u001b[0m\n\u001b[1;32m     17\u001b[0m \u001b[0mtest\u001b[0m\u001b[0;34m(\u001b[0m\u001b[0mOne\u001b[0m\u001b[0;34m(\u001b[0m\u001b[0;34m)\u001b[0m\u001b[0;34m)\u001b[0m\u001b[0;34m\u001b[0m\u001b[0;34m\u001b[0m\u001b[0m\n\u001b[0;32m---> 18\u001b[0;31m \u001b[0mBase\u001b[0m\u001b[0;34m(\u001b[0m\u001b[0;34m)\u001b[0m\u001b[0;34m.\u001b[0m\u001b[0m__test\u001b[0m\u001b[0;34m\u001b[0m\u001b[0;34m\u001b[0m\u001b[0m\n\u001b[0m",
      "\u001b[0;31mAttributeError\u001b[0m: 'Base' object has no attribute '__test'"
     ]
    }
   ],
   "source": [
    "class Base:\n",
    "    def __init__(self,name = 'base'):\n",
    "        self.name = name\n",
    "        self.__test = 0\n",
    "    def run(self):\n",
    "        print(\"run %s\"%self.name)\n",
    "\n",
    "class One(Base):\n",
    "    def __init__(self,name = 'one'):\n",
    "        self.name = name\n",
    "        self.__test = 0\n",
    "    def run(self):\n",
    "        print(\"run %s\"%self.name)\n",
    "def test(base):\n",
    "    base.run()\n",
    "test(Base())\n",
    "test(One())\n",
    "Base().__test"
   ]
  },
  {
   "cell_type": "code",
   "execution_count": 30,
   "metadata": {},
   "outputs": [
    {
     "ename": "AttributeError",
     "evalue": "'Student' object has no attribute 'score'",
     "output_type": "error",
     "traceback": [
      "\u001b[0;31m---------------------------------------------------------------------------\u001b[0m",
      "\u001b[0;31mAttributeError\u001b[0m                            Traceback (most recent call last)",
      "\u001b[0;32m<ipython-input-30-a4f38a7ddf64>\u001b[0m in \u001b[0;36m<module>\u001b[0;34m\u001b[0m\n\u001b[1;32m      5\u001b[0m \u001b[0ms\u001b[0m\u001b[0;34m.\u001b[0m\u001b[0mname\u001b[0m \u001b[0;34m=\u001b[0m \u001b[0;34m'Michael'\u001b[0m \u001b[0;31m# 绑定属性'name'\u001b[0m\u001b[0;34m\u001b[0m\u001b[0;34m\u001b[0m\u001b[0m\n\u001b[1;32m      6\u001b[0m \u001b[0ms\u001b[0m\u001b[0;34m.\u001b[0m\u001b[0mage\u001b[0m \u001b[0;34m=\u001b[0m \u001b[0;36m25\u001b[0m \u001b[0;31m# 绑定属性'age'\u001b[0m\u001b[0;34m\u001b[0m\u001b[0;34m\u001b[0m\u001b[0m\n\u001b[0;32m----> 7\u001b[0;31m \u001b[0ms\u001b[0m\u001b[0;34m.\u001b[0m\u001b[0mscore\u001b[0m \u001b[0;34m=\u001b[0m \u001b[0;36m99\u001b[0m \u001b[0;31m# 绑定属性'score'\u001b[0m\u001b[0;34m\u001b[0m\u001b[0;34m\u001b[0m\u001b[0m\n\u001b[0m",
      "\u001b[0;31mAttributeError\u001b[0m: 'Student' object has no attribute 'score'"
     ]
    }
   ],
   "source": [
    "#只允许对Student实例添加name和age属性\n",
    "class Student(object):\n",
    "    __slots__ = ('name', 'age') # 用tuple定义允许绑定的属性名称\n",
    "s = Student() # 创建新的实例\n",
    "s.name = 'Michael' # 绑定属性'name'\n",
    "s.age = 25 # 绑定属性'age'\n",
    "s.score = 99 # 绑定属性'score'"
   ]
  },
  {
   "cell_type": "code",
   "execution_count": 46,
   "metadata": {},
   "outputs": [
    {
     "data": {
      "text/plain": [
       "15"
      ]
     },
     "execution_count": 46,
     "metadata": {},
     "output_type": "execute_result"
    }
   ],
   "source": [
    "class Student(object):\n",
    "    @property\n",
    "    def score(self):\n",
    "        return self._score\n",
    "    \n",
    "    @score.setter\n",
    "    def score(self, value):\n",
    "        if not isinstance(value, int):\n",
    "            raise ValueError('score must be an integer!')\n",
    "        if value < 0 or value > 100:\n",
    "            raise ValueError('score must between 0 ~ 100!')\n",
    "        self._score = value\n",
    "    \n",
    "    @property\n",
    "    def real_score(self):\n",
    "        return  int(self._score * 0.8)  #只能通过self._score修改，所以为只读\n",
    "s = Student()\n",
    "s.score = 19\n",
    "s.real_score"
   ]
  },
  {
   "cell_type": "markdown",
   "metadata": {},
   "source": [
    "## 生成器（generator）、迭代器（iterator）\n",
    "### 1.赋值生成器 \n",
    ">**创建**\n",
    "    方法：`x = (variable for variable in iterable)`\n",
    "    例如：`x = (i for i in range(10))`\n",
    "         `print(x)`\n",
    "    `<generator object <genexpr> at 0x00000000006B85C8>`\n",
    "    返回值：generator\n",
    "    #使用元祖推导式的时候回变成一个生成器。\n",
    "    \n",
    ">**调用**\n",
    "    方法：x.__next__()\n",
    "    返回值：object\n",
    "    #对应生成器一般使用该种方法调用，当然也可以通过for循环进行遍历。\n",
    "\n",
    "### 2.函数生成器yield"
   ]
  },
  {
   "cell_type": "code",
   "execution_count": 6,
   "metadata": {},
   "outputs": [
    {
     "name": "stdout",
     "output_type": "stream",
     "text": [
      "starting...\n",
      "end1: 4\n",
      "res: None\n",
      "end2: 4\n",
      "res: 10\n"
     ]
    },
    {
     "data": {
      "text/plain": [
       "4"
      ]
     },
     "execution_count": 6,
     "metadata": {},
     "output_type": "execute_result"
    }
   ],
   "source": [
    "#yield生成器\n",
    "def foo():\n",
    "    print(\"starting...\")\n",
    "    while True:\n",
    "        res = yield 4\n",
    "        print(\"res:\",res)\n",
    "f = foo()\n",
    "print('end1:',f.__next__())         #会返回4，此时中断于 res = yield 4 后；\n",
    "print('end2:',next(f))         #再次执行 next(f), 会接着执行 print(\"res:\",res)然后又到该句之前；\n",
    "f.send(10)      #执行 f.send(10)， 执行完，返回4，且打印res:10"
   ]
  },
  {
   "cell_type": "markdown",
   "metadata": {},
   "source": [
    "### 3.迭代器\n",
    ">迭代器是一个可以记住遍历的位置的对象。\n",
    "迭代器对象从集合的第一个元素开始访问，直到所有的元素被访问完结束。迭代器只能往前不会后退。\n",
    "迭代器有两个基本的方法：iter() 和 next()。\n",
    "字符串，列表或元组对象都可用于创建迭代器"
   ]
  },
  {
   "cell_type": "code",
   "execution_count": 15,
   "metadata": {},
   "outputs": [
    {
     "name": "stdout",
     "output_type": "stream",
     "text": [
      "0\n",
      "1\n",
      "2\n",
      "3\n",
      "4\n",
      "取完了\n",
      "1,2,3,4,5,6,7,8,9,10,11,12,13,14,15,16,17,18,19,20,"
     ]
    }
   ],
   "source": [
    "a = [i for i in range(5)]\n",
    "it_a = iter(a)#创建迭代器对象,之后就可以用 next 方法\n",
    "while True:\n",
    "    try:\n",
    "        print(next(it_a)，end = ' ')\n",
    "    except:\n",
    "        print('取完了')\n",
    "        break\n",
    "#上面已经取完了，要用需要重新新建对象 ;当然迭代器都能用 for  in; 同 next \n",
    "    \n",
    "'''\n",
    "    创建迭代器\n",
    "    StopIteration 异常用于标识迭代的完成，防止出现无限循环的情况，\n",
    "    在 __next__() 方法中我们可以设置在完成指定循环次数后触发 StopIteration 异常来结束迭代。 \n",
    "'''\n",
    "class MyNumbers:\n",
    "  def __iter__(self):\n",
    "    self.a = 1\n",
    "    return self\n",
    " \n",
    "  def __next__(self):\n",
    "    if self.a <= 20:\n",
    "      x = self.a\n",
    "      self.a += 1\n",
    "      return x\n",
    "    else:\n",
    "      raise StopIteration\n",
    " \n",
    "myclass = MyNumbers()\n",
    "myiter = iter(myclass)\n",
    "for x in myiter:\n",
    "  print(x,end=',')"
   ]
  },
  {
   "cell_type": "code",
   "execution_count": null,
   "metadata": {},
   "outputs": [],
   "source": []
  }
 ],
 "metadata": {
  "kernelspec": {
   "display_name": "Python 3",
   "language": "python",
   "name": "python3"
  },
  "language_info": {
   "codemirror_mode": {
    "name": "ipython",
    "version": 3
   },
   "file_extension": ".py",
   "mimetype": "text/x-python",
   "name": "python",
   "nbconvert_exporter": "python",
   "pygments_lexer": "ipython3",
   "version": "3.8.3"
  }
 },
 "nbformat": 4,
 "nbformat_minor": 4
}
